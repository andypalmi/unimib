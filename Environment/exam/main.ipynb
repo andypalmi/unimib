{
 "cells": [
  {
   "cell_type": "markdown",
   "metadata": {},
   "source": [
    "# Project: Monitoring NDVI Changes and Segmenting Lost Vegetation\n",
    "\n",
    "## 1. Introduction\n",
    "**Objective**: Monitor the changes in NDVI over the years and segment areas of lost vegetation to classify what they have been converted to using the EuroSAT dataset.\n",
    "\n",
    "**Tools**: Python, Satellite Imagery, NDVI Calculation, EuroSAT Dataset, Machine Learning Models\n",
    "\n",
    "## 2. Data Collection and Preparation\n",
    "### Step 1: Collect Satellite Images\n",
    "- **Sources**: Landsat, Sentinel-2\n",
    "- **Period**: Define the years for monitoring (e.g., 2000-2020)\n",
    "- **Regions**: Define the geographic regions of interest\n",
    "\n",
    "### Step 2: Preprocess Satellite Images\n",
    "- **Cloud Masking**: Remove clouds and shadows\n",
    "- **Radiometric Calibration**: Correct sensor noise and inconsistencies\n",
    "\n",
    "### Step 3: Calculate NDVI\n",
    "- **Formula**: NDVI = (NIR - RED) / (NIR + RED)\n",
    "- **Implementation**: Use libraries like `rasterio` and `numpy`\n",
    "\n",
    "### Step 4: Load EuroSAT Dataset\n",
    "- **Download**: Obtain the EuroSAT dataset\n",
    "- **Categories**: Urban, Agriculture, Forest, etc.\n",
    "\n",
    "## 3. NDVI Analysis\n",
    "### Step 1: Compute Yearly NDVI Maps\n",
    "- **Mean NDVI**: Calculate average NDVI for each year\n",
    "- **Seasonal NDVI**: If needed, calculate for different seasons\n",
    "\n",
    "### Step 2: Identify Changes in NDVI\n",
    "- **Trend Analysis**: Use statistical methods to identify significant changes over the years\n",
    "- **Change Detection**: Highlight areas with significant NDVI reduction\n",
    "\n",
    "## 4. Segmentation of Lost Vegetation\n",
    "### Step 1: Identify Lost Vegetation Tiles\n",
    "- **Thresholding**: Define NDVI thresholds to identify loss\n",
    "- **Mask Creation**: Create masks for areas of NDVI reduction\n",
    "\n",
    "### Step 2: Extract Lost Vegetation Tiles\n",
    "- **Coordinate Extraction**: Get coordinates of identified tiles\n",
    "- **Tile Extraction**: Extract these regions from satellite images\n",
    "\n",
    "## 5. Classification Using EuroSAT\n",
    "### Step 1: Data Preparation\n",
    "- **Tile Labelling**: Label extracted tiles according to EuroSAT categories\n",
    "- **Data Augmentation**: If necessary, augment data to improve model performance\n",
    "\n",
    "### Step 2: Model Selection and Training\n",
    "- **Model**: Choose a suitable classification model (e.g., CNN)\n",
    "- **Training**: Train the model using EuroSAT dataset\n",
    "- **Validation**: Validate model performance on a separate validation set\n",
    "\n",
    "### Step 3: Classification of Lost Vegetation Tiles\n",
    "- **Prediction**: Use the trained model to classify lost vegetation tiles\n",
    "- **Post-processing**: Aggregate and interpret classification results\n",
    "\n",
    "## 6. Results and Analysis\n",
    "### Step 1: Visualization\n",
    "- **NDVI Changes**: Visualize NDVI changes over the years using plots or maps\n",
    "- **Classified Tiles**: Map out classified lost vegetation tiles\n",
    "\n",
    "### Step 2: Interpretation\n",
    "- **Land Use Changes**: Interpret what the lost vegetation has been converted to\n",
    "- **Environmental Impact**: Discuss potential environmental impacts\n",
    "\n",
    "## 7. Conclusion\n",
    "- **Summary**: Summarize key findings\n",
    "- **Future Work**: Suggest possible extensions or improvements\n",
    "\n",
    "## 8. References and Documentation\n",
    "- **References**: List of scholarly articles, datasets, and tools used\n",
    "- **Documentation**: Detailed code comments and project documentation\n"
   ]
  },
  {
   "cell_type": "code",
   "execution_count": 1,
   "metadata": {},
   "outputs": [],
   "source": [
    "import numpy as np\n",
    "import tensorflow as tf\n",
    "import tensorflow.keras as keras\n",
    "import tensorflow_datasets as tfds\n",
    "import matplotlib.pyplot as plt\n",
    "import IPython.display as disp\n",
    "\n",
    "%matplotlib inline"
   ]
  },
  {
   "cell_type": "markdown",
   "metadata": {},
   "source": [
    "# Dataset"
   ]
  },
  {
   "cell_type": "code",
   "execution_count": 2,
   "metadata": {},
   "outputs": [],
   "source": [
    "import ee\n",
    "\n",
    "# Authenticate and initialize Earth Engine\n",
    "ee.Authenticate()\n",
    "ee.Initialize()\n"
   ]
  },
  {
   "cell_type": "code",
   "execution_count": null,
   "metadata": {},
   "outputs": [],
   "source": []
  }
 ],
 "metadata": {
  "kernelspec": {
   "display_name": "myenv",
   "language": "python",
   "name": "python3"
  },
  "language_info": {
   "codemirror_mode": {
    "name": "ipython",
    "version": 3
   },
   "file_extension": ".py",
   "mimetype": "text/x-python",
   "name": "python",
   "nbconvert_exporter": "python",
   "pygments_lexer": "ipython3",
   "version": "3.12.3"
  }
 },
 "nbformat": 4,
 "nbformat_minor": 2
}
