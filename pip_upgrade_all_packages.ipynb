{
 "cells": [
  {
   "cell_type": "code",
   "execution_count": null,
   "metadata": {},
   "outputs": [],
   "source": [
    "import pkg_resources\n",
    "from subprocess import call\n",
    "\n",
    "# Get the list of all installed packages\n",
    "packages = [dist.project_name for dist in pkg_resources.working_set]\n",
    "\n",
    "# Filter out the 'GDAL' package\n",
    "# because who the fuck knows how to install it\n",
    "packages = [pkg for pkg in packages if pkg.lower() != 'gdal']\n",
    "\n",
    "# Run the pip upgrade command for the remaining packages\n",
    "call(\"pip install --upgrade \" + ' '.join(packages), shell=True)"
   ]
  }
 ],
 "metadata": {
  "kernelspec": {
   "display_name": ".venv3-12-1",
   "language": "python",
   "name": "python3"
  },
  "language_info": {
   "codemirror_mode": {
    "name": "ipython",
    "version": 3
   },
   "file_extension": ".py",
   "mimetype": "text/x-python",
   "name": "python",
   "nbconvert_exporter": "python",
   "pygments_lexer": "ipython3",
   "version": "3.12.5"
  }
 },
 "nbformat": 4,
 "nbformat_minor": 2
}
