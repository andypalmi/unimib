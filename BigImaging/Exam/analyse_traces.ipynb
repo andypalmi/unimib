{
 "cells": [
  {
   "cell_type": "code",
   "execution_count": 1,
   "metadata": {},
   "outputs": [
    {
     "name": "stdout",
     "output_type": "stream",
     "text": [
      "Number of CPU cores: 12\n"
     ]
    }
   ],
   "source": [
    "import os\n",
    "\n",
    "num_cores = os.cpu_count()\n",
    "print(f\"Number of CPU cores: {num_cores}\")"
   ]
  },
  {
   "cell_type": "code",
   "execution_count": null,
   "metadata": {},
   "outputs": [],
   "source": [
    "from hta.trace_analysis import TraceAnalysis\n",
    "import glob\n",
    "import os\n",
    "import pandas as pd"
   ]
  },
  {
   "cell_type": "code",
   "execution_count": null,
   "metadata": {},
   "outputs": [],
   "source": [
    "\n",
    "# Create an empty list to store the paths\n",
    "paths = []\n",
    "archs = []\n",
    "nets = []\n",
    "dates = []\n",
    "\n",
    "# Iterate over the directories and files\n",
    "for arch in glob.glob('logs/*'):\n",
    "    for net in glob.glob(arch+'/*'):\n",
    "        for trace in glob.glob(net+'/*'):\n",
    "            # Append the path to the list\n",
    "            archs.append(os.path.basename(arch))\n",
    "            nets.append(os.path.basename(net))\n",
    "            dates.append(os.path.basename(trace))\n",
    "            paths.append(trace)\n",
    "\n",
    "# Create a dataframe with the paths\n",
    "df_paths = pd.DataFrame({'Arch': archs, 'Nets': nets, 'Dates': dates, 'Trace': paths})\n",
    "\n",
    "# Sort dataframe by date ascending\n",
    "df_paths = df_paths.sort_values(by='Dates', ignore_index=True)\n",
    "\n",
    "# Print the dataframe\n",
    "print(df_paths)"
   ]
  },
  {
   "cell_type": "code",
   "execution_count": null,
   "metadata": {},
   "outputs": [],
   "source": [
    "path = df_paths['Trace'][2]\n",
    "print(path)\n",
    "!ls $path\n",
    "\n",
    "# Create an instance of the TraceAnalysis class\n",
    "\n",
    "from hta.trace_analysis import TraceAnalysis\n",
    "analyzer = TraceAnalysis(trace_dir = path)"
   ]
  },
  {
   "cell_type": "code",
   "execution_count": null,
   "metadata": {},
   "outputs": [],
   "source": [
    "# Temporal breakdown\n",
    "temporal_breakdown_df = analyzer.get_temporal_breakdown()\n",
    "\n",
    "# Idle time breakdown\n",
    "idle_time_df = analyzer.get_idle_time_breakdown()\n",
    "\n",
    "# Kernel breakdown\n",
    "kernel_breakdown_df = analyzer.get_gpu_kernel_breakdown()\n",
    "\n",
    "# Communication computation overlap\n",
    "comm_comp_overlap_df = analyzer.get_comm_comp_overlap()\n",
    "\n",
    "# Memory bandwidth time series\n",
    "memory_bw_series = analyzer.get_memory_bw_time_series()\n",
    "\n",
    "# Memory bandwidth summary\n",
    "memory_bw_summary = analyzer.get_memory_bw_summary()\n",
    "\n",
    "# Queue length time series\n",
    "ql_series = analyzer.get_queue_length_time_series()\n",
    "\n",
    "# Queue length summary\n",
    "ql_summary = analyzer.get_queue_length_summary()\n",
    "\n",
    "# CUDA kernel launch statistics\n",
    "cuda_kernel_launch_stats = analyzer.get_cuda_kernel_launch_stats()\n",
    "\n",
    "# Frequent CUDA kernel sequences\n",
    "frequent_patterns_df = analyzer.get_frequent_cuda_kernel_sequences(operator_name=\"aten::linear\",\n",
    "                                                                  output_dir=os.path.join(path, '/output_hta')\n",
    "                                                                 )"
   ]
  }
 ],
 "metadata": {
  "kernelspec": {
   "display_name": ".venv_3_12_4",
   "language": "python",
   "name": "python3"
  },
  "language_info": {
   "codemirror_mode": {
    "name": "ipython",
    "version": 3
   },
   "file_extension": ".py",
   "mimetype": "text/x-python",
   "name": "python",
   "nbconvert_exporter": "python",
   "pygments_lexer": "ipython3",
   "version": "3.12.4"
  }
 },
 "nbformat": 4,
 "nbformat_minor": 2
}
