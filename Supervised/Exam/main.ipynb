{
 "cells": [
  {
   "cell_type": "code",
   "execution_count": 1,
   "metadata": {},
   "outputs": [],
   "source": [
    "import pandas as pd\n",
    "import numpy as np\n",
    "import os"
   ]
  },
  {
   "cell_type": "code",
   "execution_count": 2,
   "metadata": {},
   "outputs": [],
   "source": [
    "# columns = ['image', 'label']\n",
    "# train_df = pd.read_csv('data/labels/train_info.csv', names=columns, header=None)\n",
    "# val_df = pd.read_csv('data/labels/val_info.csv', names=columns, header=None)\n",
    "\n",
    "# count_columns = 'class,count'\n",
    "\n",
    "# label_counts_train = train_df['label'].value_counts()\n",
    "# label_counts_train.to_csv('data/labels/train_counts.csv', header=count_columns)\n",
    "# label_counts_val = val_df['label'].value_counts()\n",
    "# label_counts_val.to_csv('data/labels/val_counts.csv', header=count_columns)"
   ]
  },
  {
   "cell_type": "code",
   "execution_count": 3,
   "metadata": {},
   "outputs": [],
   "source": [
    "counts_path = os.path.join('data', 'counts')\n",
    "train_counts_df = pd.read_csv(os.path.join(counts_path, 'train_counts.csv'))\n",
    "val_counts_df = pd.read_csv(os.path.join(counts_path, 'val_counts.csv'))"
   ]
  },
  {
   "cell_type": "code",
   "execution_count": 4,
   "metadata": {},
   "outputs": [
    {
     "data": {
      "image/png": "[encoded data removed]",
      "text/plain": [
       "<Figure size 1000x500 with 2 Axes>"
      ]
     },
     "metadata": {},
     "output_type": "display_data"
    }
   ],
   "source": [
    "import matplotlib.pyplot as plt\n",
    "\n",
    "fig, axes = plt.subplots(1, 2, figsize=(10, 5))\n",
    "\n",
    "\n",
    "# Plot histogram for train counts\n",
    "train_counts_df['count'].plot(kind='hist', bins=25, ax=axes[0], title='Histogram of Train Counts')\n",
    "axes[0].axvline(train_counts_df['count'].median(), color='r', linestyle='dashed', linewidth=1)\n",
    "axes[0].set_xlabel('Count')\n",
    "axes[0].set_ylabel('Frequency')\n",
    "\n",
    "# Plot histogram for validation counts\n",
    "val_counts_df['count'].plot(kind='hist', bins=25, ax=axes[1], title='Histogram of Validation Counts')\n",
    "axes[1].axvline(val_counts_df['count'].median(), color='r', linestyle='dashed', linewidth=1)\n",
    "axes[1].set_xlabel('Count')\n",
    "axes[1].set_ylabel('Frequency')\n",
    "\n",
    "plt.tight_layout()\n",
    "plt.show()"
   ]
  },
  {
   "cell_type": "code",
   "execution_count": 5,
   "metadata": {},
   "outputs": [],
   "source": [
    "max_count = train_counts_df['count'].max()\n",
    "train_augments = pd.DataFrame(columns=['label', 'count'])\n",
    "for index, row in train_counts_df.iterrows():\n",
    "    label = row['label']\n",
    "    count = row['count']\n",
    "    train_augments.loc[index] = {'label': label, 'count': max_count - count}\n",
    "\n",
    "train_augments.to_csv(os.path.join(counts_path, 'train_augments.csv'), index=False)"
   ]
  },
  {
   "cell_type": "code",
   "execution_count": 6,
   "metadata": {},
   "outputs": [],
   "source": [
    "max_count = val_counts_df['count'].max()\n",
    "val_augments = pd.DataFrame(columns=['label', 'count'])\n",
    "for index, row in val_counts_df.iterrows():\n",
    "    label = row['label']\n",
    "    count = row['count']\n",
    "    val_augments.loc[index] = {'label': label, 'count': max_count - count}\n",
    "\n",
    "val_augments.to_csv(os.path.join(counts_path, 'val_augments.csv'), index=False)"
   ]
  },
  {
   "cell_type": "code",
   "execution_count": 7,
   "metadata": {},
   "outputs": [
    {
     "name": "stderr",
     "output_type": "stream",
     "text": [
      "/home/andrea/Documents/unimib/.venv_3_12_4/lib/python3.12/site-packages/albumentations/__init__.py:13: UserWarning: A new version of Albumentations is available: 1.4.18 (you have 1.4.14). Upgrade using: pip install -U albumentations. To disable automatic update checks, set the environment variable NO_ALBUMENTATIONS_UPDATE to 1.\n",
      "  check_for_updates()\n"
     ]
    }
   ],
   "source": [
    "import albumentations as A\n",
    "from albumentations.pytorch import ToTensorV2\n",
    "\n",
    "# Define the transformation pipeline\n",
    "train_transforms = A.Compose([\n",
    "    # Randomly crop and resize to 256x256\n",
    "    A.RandomResizedCrop(height=256, width=256, scale=(0.8, 1.0), p=1.0),\n",
    "    \n",
    "    # Horizontal Flip\n",
    "    A.HorizontalFlip(p=0.5),\n",
    "    \n",
    "    # Random brightness and contrast\n",
    "    A.RandomBrightnessContrast(p=0.2),\n",
    "\n",
    "    A.HueSaturationValue(p=0.2),  # Randomly change hue, saturation, and value\n",
    "\n",
    "    A.RandomGamma(p=0.2),  # Randomly change gamma\n",
    "    \n",
    "    # Normalize using ImageNet mean and std\n",
    "    A.Normalize(mean=(0.485, 0.456, 0.406), std=(0.229, 0.224, 0.225)),\n",
    "    \n",
    "    # Convert image to a PyTorch tensor\n",
    "    ToTensorV2(),\n",
    "])\n",
    "\n",
    "valtest_transforms = A.Compose([\n",
    "    # Resize to 256x256\n",
    "    A.Resize(height=256, width=256),\n",
    "    \n",
    "    # Normalize using ImageNet mean and std\n",
    "    A.Normalize(mean=(0.485, 0.456, 0.406), std=(0.229, 0.224, 0.225)),\n",
    "    \n",
    "    # Convert image to a PyTorch tensor\n",
    "    ToTensorV2(),\n",
    "])"
   ]
  },
  {
   "cell_type": "code",
   "execution_count": 8,
   "metadata": {},
   "outputs": [],
   "source": [
    "import torch\n",
    "import torch.nn as nn\n",
    "import torch.nn.functional as F\n",
    "\n",
    "class FoodNet(nn.Module):\n",
    "    def __init__(self, num_classes=251):\n",
    "        super(FoodNet, self).__init__()\n",
    "        \n",
    "        # Initial Conv Layer\n",
    "        self.conv1 = nn.Conv2d(in_channels=3, out_channels=32, kernel_size=3, stride=1, padding=1)\n",
    "        self.bn1 = nn.BatchNorm2d(32)\n",
    "        \n",
    "        # Depthwise Separable Convolutions\n",
    "        self.conv2 = nn.Conv2d(in_channels=32, out_channels=32, kernel_size=3, stride=1, padding=1, groups=32)  # Depthwise\n",
    "        self.conv2_pointwise = nn.Conv2d(in_channels=32, out_channels=64, kernel_size=1)  # Pointwise\n",
    "        self.bn2 = nn.BatchNorm2d(64)\n",
    "        \n",
    "        self.conv3 = nn.Conv2d(in_channels=64, out_channels=64, kernel_size=3, stride=1, padding=1, groups=64)  # Depthwise\n",
    "        self.conv3_pointwise = nn.Conv2d(in_channels=64, out_channels=128, kernel_size=1)  # Pointwise\n",
    "        self.bn3 = nn.BatchNorm2d(128)\n",
    "        \n",
    "        self.conv4 = nn.Conv2d(in_channels=128, out_channels=128, kernel_size=3, stride=1, padding=1, groups=128)  # Depthwise\n",
    "        self.conv4_pointwise = nn.Conv2d(in_channels=128, out_channels=256, kernel_size=1)  # Pointwise\n",
    "        self.bn4 = nn.BatchNorm2d(256)\n",
    "        \n",
    "        self.conv5 = nn.Conv2d(in_channels=256, out_channels=256, kernel_size=3, stride=1, padding=1, groups=256)  # Depthwise\n",
    "        self.conv5_pointwise = nn.Conv2d(in_channels=256, out_channels=512, kernel_size=1)  # Pointwise\n",
    "        self.bn5 = nn.BatchNorm2d(512)\n",
    "        \n",
    "        # Global Average Pooling\n",
    "        self.global_avg_pool = nn.AdaptiveAvgPool2d((1, 1))\n",
    "        \n",
    "        # Fully Connected Layer\n",
    "        self.fc = nn.Linear(512, num_classes)\n",
    "    \n",
    "    def forward(self, x):\n",
    "        # Initial Conv Layer\n",
    "        x = F.relu(self.bn1(self.conv1(x)))\n",
    "        \n",
    "        # Depthwise Separable Convolutions\n",
    "        x = F.relu(self.bn2(self.conv2_pointwise(F.relu(self.conv2(x)))))\n",
    "        x = F.relu(self.bn3(self.conv3_pointwise(F.relu(self.conv3(x)))))\n",
    "        x = F.relu(self.bn4(self.conv4_pointwise(F.relu(self.conv4(x)))))\n",
    "        x = F.relu(self.bn5(self.conv5_pointwise(F.relu(self.conv5(x)))))\n",
    "        \n",
    "        # Global Average Pooling\n",
    "        x = self.global_avg_pool(x)\n",
    "        \n",
    "        # Flatten the tensor\n",
    "        x = x.view(x.size(0), -1)\n",
    "        \n",
    "        # Fully Connected Layer\n",
    "        x = self.fc(x)\n",
    "        \n",
    "        return x\n"
   ]
  },
  {
   "cell_type": "code",
   "execution_count": 9,
   "metadata": {},
   "outputs": [],
   "source": [
    "# Define the loss function\n",
    "criterion = nn.CrossEntropyLoss()\n",
    "\n",
    "batch_size = 1\n",
    "\n",
    "# Example: calculate the loss for a batch\n",
    "# Assume outputs is your network's prediction (logits), and targets are the true labels\n",
    "outputs = torch.randn(batch_size, 251)  # Replace with your model outputs\n",
    "targets = torch.randint(0, 251, (batch_size,))  # Replace with your actual labels\n",
    "\n",
    "# Calculate the loss\n",
    "loss = criterion(outputs, targets)"
   ]
  },
  {
   "cell_type": "code",
   "execution_count": 17,
   "metadata": {},
   "outputs": [
    {
     "name": "stdout",
     "output_type": "stream",
     "text": [
      "----------------------------------------------------------------\n",
      "        Layer (type)               Output Shape         Param #\n",
      "================================================================\n",
      "            Conv2d-1         [-1, 32, 256, 256]             896\n",
      "       BatchNorm2d-2         [-1, 32, 256, 256]              64\n",
      "            Conv2d-3         [-1, 32, 256, 256]             320\n",
      "            Conv2d-4         [-1, 64, 256, 256]           2,112\n",
      "       BatchNorm2d-5         [-1, 64, 256, 256]             128\n",
      "            Conv2d-6         [-1, 64, 256, 256]             640\n",
      "            Conv2d-7        [-1, 128, 256, 256]           8,320\n",
      "       BatchNorm2d-8        [-1, 128, 256, 256]             256\n",
      "            Conv2d-9        [-1, 128, 256, 256]           1,280\n",
      "           Conv2d-10        [-1, 256, 256, 256]          33,024\n",
      "      BatchNorm2d-11        [-1, 256, 256, 256]             512\n",
      "           Conv2d-12        [-1, 256, 256, 256]           2,560\n",
      "           Conv2d-13        [-1, 512, 256, 256]         131,584\n",
      "      BatchNorm2d-14        [-1, 512, 256, 256]           1,024\n",
      "AdaptiveAvgPool2d-15            [-1, 512, 1, 1]               0\n",
      "           Linear-16                  [-1, 251]         128,763\n",
      "================================================================\n",
      "Total params: 311,483\n",
      "Trainable params: 311,483\n",
      "Non-trainable params: 0\n",
      "----------------------------------------------------------------\n",
      "Input size (MB): 0.75\n",
      "Forward/backward pass size (MB): 1232.01\n",
      "Params size (MB): 1.19\n",
      "Estimated Total Size (MB): 1233.94\n",
      "----------------------------------------------------------------\n"
     ]
    }
   ],
   "source": [
    "from torchsummary import summary\n",
    "\n",
    "model = FoodNet(num_classes=251)\n",
    "\n",
    "device = torch.device('cuda' if torch.cuda.is_available() else 'cpu')\n",
    "model.to(device)\n",
    "\n",
    "summary(model, (3, 256, 256), device=str(device))"
   ]
  },
  {
   "cell_type": "code",
   "execution_count": 21,
   "metadata": {},
   "outputs": [],
   "source": [
    "torch.onnx.export(model, torch.randn(1, 3, 256, 256).to(device), 'models/foodnet.onnx', input_names=['image'], output_names=['label'], verbose=False)"
   ]
  },
  {
   "cell_type": "code",
   "execution_count": null,
   "metadata": {},
   "outputs": [],
   "source": []
  }
 ],
 "metadata": {
  "kernelspec": {
   "display_name": ".venv_3_12_4",
   "language": "python",
   "name": "python3"
  },
  "language_info": {
   "codemirror_mode": {
    "name": "ipython",
    "version": 3
   },
   "file_extension": ".py",
   "mimetype": "text/x-python",
   "name": "python",
   "nbconvert_exporter": "python",
   "pygments_lexer": "ipython3",
   "version": "3.12.6"
  }
 },
 "nbformat": 4,
 "nbformat_minor": 2
}
