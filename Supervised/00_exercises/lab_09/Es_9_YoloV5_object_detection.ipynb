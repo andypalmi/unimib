{
  "cells": [
    {
      "cell_type": "markdown",
      "metadata": {
        "id": "shbM3zJAuPI9"
      },
      "source": [
        "In this lab you will do the following steps in order:\n",
        "\n",
        "1. Prepare dataset dataset.\n",
        "2. Train YOLOv5 for 5 class object detection.\n",
        "3. Test the network.\n",
        "\n",
        "\n"
      ]
    },
    {
      "cell_type": "code",
      "execution_count": null,
      "metadata": {
        "id": "6d4da00d"
      },
      "outputs": [],
      "source": [
        "import os\n",
        "import glob as glob\n",
        "import matplotlib.pyplot as plt\n",
        "import cv2\n",
        "import requests\n",
        "import random\n",
        "import numpy as np"
      ]
    },
    {
      "cell_type": "markdown",
      "metadata": {
        "id": "d7034839"
      },
      "source": [
        "## Hyperparameters and Constants\n",
        "\n",
        "Here, we define wether to train the model or not and for how many epochs to train for.\n",
        "\n",
        "If `TRAIN = False`, then the last trained model will be used for inference in the notebook if run end to end."
      ]
    },
    {
      "cell_type": "code",
      "execution_count": null,
      "metadata": {
        "id": "db6d5dc8"
      },
      "outputs": [],
      "source": [
        "TRAIN = True\n",
        "# Number of epochs to train for.\n",
        "EPOCHS = 25"
      ]
    },
    {
      "cell_type": "markdown",
      "metadata": {
        "id": "ab27cc17"
      },
      "source": [
        "##1- Download and Prepare the Dataset\n",
        "\n",
        "We will use the <a href=\"https://public.roboflow.com/object-detection/vehicles-openimages\" target=\"_blank\">Vehicles-OpenImages</a> dataset for training the custom YOLOv5 object detector.\n",
        "\n",
        "Let's download the dataset."
      ]
    },
    {
      "cell_type": "code",
      "execution_count": null,
      "metadata": {
        "id": "N-0EGRu98BQ2"
      },
      "outputs": [],
      "source": [
        "!yes | curl -L \"https://public.roboflow.com/ds/xKLV14HbTF?key=aJzo7msVta\" > roboflow.zip; unzip -qq roboflow.zip; rm roboflow.zip\n"
      ]
    },
    {
      "cell_type": "markdown",
      "metadata": {
        "id": "UZC-JoWOtkxS"
      },
      "source": [
        "The original data had two instances of each image and label file, delete the duplicate image and it's corresponding text file containing the label."
      ]
    },
    {
      "cell_type": "code",
      "execution_count": null,
      "metadata": {
        "id": "Trq1EzELtkxR"
      },
      "outputs": [],
      "source": [
        "if not os.path.exists('train'):\n",
        "    !curl -L \"https://public.roboflow.com/ds/xKLV14HbTF?key=aJzo7msVta\" > roboflow.zip; unzip -qq roboflow.zip; rm roboflow.zip\n",
        "\n",
        "    dirs = ['train', 'valid', 'test']\n",
        "    for i, dir_name in enumerate(dirs):\n",
        "        all_image_names = sorted(os.listdir(f\"{dir_name}/images/\"))\n",
        "        for j, image_name in enumerate(all_image_names):\n",
        "          print(image_name)\n",
        "          if (j % 2) == 0:\n",
        "              file_name = image_name.split('.jpg')[0]\n",
        "              os.remove(f\"{dir_name}/images/{image_name}\")\n",
        "              os.remove(f\"{dir_name}/labels/{file_name}.txt\")\n",
        "print(\"Train data \",len(os.listdir(\"train/images\")),len(os.listdir(\"train/labels\")))\n",
        "print(\"Valid data \",len(os.listdir(\"valid/images\")),len(os.listdir(\"valid/labels\")))\n",
        "print(\"Test data \",len(os.listdir(\"test/images\")),len(os.listdir(\"test/labels\")))"
      ]
    },
    {
      "cell_type": "markdown",
      "metadata": {
        "id": "O4zId7v-tkxS"
      },
      "source": [
        "The dataset is structured in the following manner:\n",
        "\n",
        "```\n",
        "├── data.yaml\n",
        "├── README.dataset.txt\n",
        "├── README.roboflow.txt\n",
        "├── test\n",
        "│   ├── images\n",
        "│   └── labels\n",
        "├── train\n",
        "│   ├── images\n",
        "│   └── labels\n",
        "└── valid\n",
        "    ├── images\n",
        "    └── labels\n",
        "\n",
        "```"
      ]
    },
    {
      "cell_type": "markdown",
      "metadata": {
        "id": "_aMRnSXVtkxT"
      },
      "source": [
        "## Helper Functions to Download Files"
      ]
    },
    {
      "cell_type": "markdown",
      "metadata": {
        "id": "80017f5f"
      },
      "source": [
        "The following function is for downloading any file in the notebook. In further sections of the notebook, we will use it for downloading the inference data."
      ]
    },
    {
      "cell_type": "code",
      "execution_count": null,
      "metadata": {
        "id": "b510c4c2"
      },
      "outputs": [],
      "source": [
        "def download_file(url, save_name):\n",
        "    url = url\n",
        "    if not os.path.exists(save_name):\n",
        "        file = requests.get(url)\n",
        "        open(save_name, 'wb').write(file.content)\n",
        "    else:\n",
        "        print('File already present, skipping download...')"
      ]
    },
    {
      "cell_type": "markdown",
      "metadata": {
        "id": "bffc5c4d"
      },
      "source": [
        "### The Dataset YAML File\n",
        "\n",
        "The dataset YAML (`data.yaml`) file containing the path to the training and validation images and labels is already provided. This file will also contain the class names from the dataset.\n",
        "\n",
        "The dataset contains 5 classes: **'Ambulance', 'Bus', 'Car', 'Motorcycle', 'Truck'**.\n",
        "\n",
        "The following block shows the contents of the `data.yaml` file."
      ]
    },
    {
      "cell_type": "markdown",
      "metadata": {
        "id": "NQgNyu5ntkxU"
      },
      "source": [
        "```yaml\n",
        "train: ../train/images\n",
        "val: ../valid/images\n",
        "\n",
        "nc: 5\n",
        "names: ['Ambulance', 'Bus', 'Car', 'Motorcycle', 'Truck']\n",
        "```"
      ]
    },
    {
      "cell_type": "markdown",
      "metadata": {
        "id": "69105c90"
      },
      "source": [
        "### Visualize a Few Ground Truth Images\n",
        "\n",
        "Before moving forward, let's check out few of the ground truth images.\n",
        "\n",
        "The current annotations in the text files are in normalized `[x_center, y_center, width, height]` format. Let's write a function that will convert it back to `[x_min, y_min, x_max, y_max]` format."
      ]
    },
    {
      "cell_type": "code",
      "execution_count": null,
      "metadata": {
        "id": "561f30fc"
      },
      "outputs": [],
      "source": [
        "class_names = ['Ambulance', 'Bus', 'Car', 'Motorcycle', 'Truck']\n",
        "colors = np.random.uniform(0, 255, size=(len(class_names), 3))"
      ]
    },
    {
      "cell_type": "code",
      "execution_count": null,
      "metadata": {
        "id": "2edd455f"
      },
      "outputs": [],
      "source": [
        "# Function to convert bounding boxes in YOLO format to xmin, ymin, xmax, ymax.\n",
        "def yolo2bbox(bboxes):\n",
        "    xmin, ymin = bboxes[0]-bboxes[2]/2, bboxes[1]-bboxes[3]/2\n",
        "    xmax, ymax = bboxes[0]+bboxes[2]/2, bboxes[1]+bboxes[3]/2\n",
        "    return xmin, ymin, xmax, ymax"
      ]
    },
    {
      "cell_type": "code",
      "execution_count": null,
      "metadata": {
        "id": "4a6b5fc8"
      },
      "outputs": [],
      "source": [
        "def plot_box(image, bboxes, labels):\n",
        "    # Need the image height and width to denormalize\n",
        "    # the bounding box coordinates\n",
        "    h, w, _ = image.shape\n",
        "    for box_num, box in enumerate(bboxes):\n",
        "        x1, y1, x2, y2 = yolo2bbox(box)\n",
        "        # denormalize the coordinates\n",
        "        xmin = int(x1*w)\n",
        "        ymin = int(y1*h)\n",
        "        xmax = int(x2*w)\n",
        "        ymax = int(y2*h)\n",
        "        width = xmax - xmin\n",
        "        height = ymax - ymin\n",
        "\n",
        "        class_name = class_names[int(labels[box_num])]\n",
        "\n",
        "        cv2.rectangle(\n",
        "            image,\n",
        "            (xmin, ymin), (xmax, ymax),\n",
        "            color=colors[class_names.index(class_name)],\n",
        "            thickness=2\n",
        "        )\n",
        "\n",
        "        font_scale = min(1,max(3,int(w/500)))\n",
        "        font_thickness = min(2, max(10,int(w/50)))\n",
        "\n",
        "        p1, p2 = (int(xmin), int(ymin)), (int(xmax), int(ymax))\n",
        "        # Text width and height\n",
        "        tw, th = cv2.getTextSize(\n",
        "            class_name,\n",
        "            0, fontScale=font_scale, thickness=font_thickness\n",
        "        )[0]\n",
        "        p2 = p1[0] + tw, p1[1] + -th - 10\n",
        "        cv2.rectangle(\n",
        "            image,\n",
        "            p1, p2,\n",
        "            color=colors[class_names.index(class_name)],\n",
        "            thickness=-1,\n",
        "        )\n",
        "        cv2.putText(\n",
        "            image,\n",
        "            class_name,\n",
        "            (xmin+1, ymin-10),\n",
        "            cv2.FONT_HERSHEY_SIMPLEX,\n",
        "            font_scale,\n",
        "            (255, 255, 255),\n",
        "            font_thickness\n",
        "        )\n",
        "    return image"
      ]
    },
    {
      "cell_type": "code",
      "execution_count": null,
      "metadata": {
        "id": "18cba619"
      },
      "outputs": [],
      "source": [
        "# Function to plot images with the bounding boxes.\n",
        "def plot(image_paths, label_paths, num_samples):\n",
        "    all_training_images = glob.glob(image_paths)\n",
        "    all_training_labels = glob.glob(label_paths)\n",
        "    all_training_images.sort()\n",
        "    all_training_labels.sort()\n",
        "\n",
        "    num_images = len(all_training_images)\n",
        "    print(num_images)\n",
        "    plt.figure(figsize=(15, 12))\n",
        "    for i in range(num_samples):\n",
        "        j = random.randint(0,num_images-1)\n",
        "        image = cv2.imread(all_training_images[j])\n",
        "        with open(all_training_labels[j], 'r') as f:\n",
        "            bboxes = []\n",
        "            labels = []\n",
        "            label_lines = f.readlines()\n",
        "            for label_line in label_lines:\n",
        "                label = label_line[0]\n",
        "                bbox_string = label_line[2:]\n",
        "                x_c, y_c, w, h = bbox_string.split(' ')\n",
        "                x_c = float(x_c)\n",
        "                y_c = float(y_c)\n",
        "                w = float(w)\n",
        "                h = float(h)\n",
        "                bboxes.append([x_c, y_c, w, h])\n",
        "                labels.append(label)\n",
        "        result_image = plot_box(image, bboxes, labels)\n",
        "        plt.subplot(2, 2, i+1)\n",
        "        plt.imshow(result_image[:, :, ::-1])\n",
        "        plt.axis('off')\n",
        "    plt.subplots_adjust(wspace=3)\n",
        "    plt.tight_layout()\n",
        "    plt.show()"
      ]
    },
    {
      "cell_type": "code",
      "execution_count": null,
      "metadata": {
        "id": "7f9d242e"
      },
      "outputs": [],
      "source": [
        "# Visualize a few training images.\n",
        "plot(\n",
        "    image_paths='train/images/*',\n",
        "    label_paths='train/labels/*',\n",
        "    num_samples=4,\n",
        ")"
      ]
    },
    {
      "cell_type": "markdown",
      "metadata": {
        "id": "9a07c9d1"
      },
      "source": [
        "## Helper Functions for Logging\n",
        "\n",
        "Here, we write the helper functions that we need for logging of the results in the notebook while training the models.\n",
        "\n",
        "Let's create our custom result directories so that we can easily keep track of them and carry out inference using the proper model."
      ]
    },
    {
      "cell_type": "code",
      "execution_count": null,
      "metadata": {
        "id": "a66ba3a9"
      },
      "outputs": [],
      "source": [
        "def set_res_dir():\n",
        "    # Directory to store results\n",
        "    res_dir_count = len(glob.glob('runs/train/*'))\n",
        "    print(f\"Current number of result directories: {res_dir_count}\")\n",
        "    if TRAIN:\n",
        "        RES_DIR = f\"results_{res_dir_count+1}\"\n",
        "        print(RES_DIR)\n",
        "    else:\n",
        "        RES_DIR = f\"results_{res_dir_count}\"\n",
        "    return RES_DIR"
      ]
    },
    {
      "cell_type": "markdown",
      "metadata": {
        "id": "20e6bd98"
      },
      "source": [
        "## 2- Train YOLOv5 for 5 class object detection.\n",
        "Clone YOLOV5 Repository"
      ]
    },
    {
      "cell_type": "code",
      "execution_count": null,
      "metadata": {
        "id": "c0d1d163"
      },
      "outputs": [],
      "source": [
        "if not os.path.exists('yolov5'):\n",
        "    !git clone https://github.com/ultralytics/yolov5.git"
      ]
    },
    {
      "cell_type": "code",
      "execution_count": null,
      "metadata": {
        "id": "a5d51690"
      },
      "outputs": [],
      "source": [
        "%cd yolov5/\n",
        "!pwd"
      ]
    },
    {
      "cell_type": "code",
      "execution_count": null,
      "metadata": {
        "id": "5HKnG4RH4PaJ"
      },
      "outputs": [],
      "source": [
        "!pip install -r requirements.txt"
      ]
    },
    {
      "cell_type": "markdown",
      "metadata": {
        "id": "43df9ad6"
      },
      "source": [
        "## Training using YOLOV5"
      ]
    },
    {
      "cell_type": "markdown",
      "metadata": {
        "id": "95932208"
      },
      "source": [
        "The next step is to train the neural network model."
      ]
    },
    {
      "cell_type": "markdown",
      "metadata": {
        "id": "a26e6a48"
      },
      "source": [
        "### Train a Small (yolov5s) Model\n",
        "\n",
        "Training all the layers of the small model."
      ]
    },
    {
      "cell_type": "code",
      "execution_count": null,
      "metadata": {
        "id": "ec9999f9"
      },
      "outputs": [],
      "source": [
        "RES_DIR = set_res_dir()\n",
        "if TRAIN:\n",
        "    !python train.py --data ../data.yaml --weights yolov5s.pt \\\n",
        "    --img 640 --epochs {EPOCHS} --batch-size 16 --name {RES_DIR}"
      ]
    },
    {
      "cell_type": "markdown",
      "metadata": {
        "id": "c666b4f5"
      },
      "source": [
        "## 3- Test the network\n",
        "Check Out the Validation Predictions and Inference\n",
        "\n",
        "In this section, we will check out the predictions of the validation images saved during training. Along with that, we will also check out inference of images and videos."
      ]
    },
    {
      "cell_type": "markdown",
      "metadata": {
        "id": "2a9a4edc"
      },
      "source": [
        "### Visualization and Inference Utilities"
      ]
    },
    {
      "cell_type": "markdown",
      "metadata": {
        "id": "f7f366ae"
      },
      "source": [
        "We will visualize the validation prediction images that are saved during training. The following is the function for that."
      ]
    },
    {
      "cell_type": "code",
      "execution_count": null,
      "metadata": {
        "id": "ce7d9170"
      },
      "outputs": [],
      "source": [
        "# Function to show validation predictions saved during training.\n",
        "def show_valid_results(RES_DIR):\n",
        "    !ls runs/train/{RES_DIR}\n",
        "    EXP_PATH = f\"runs/train/{RES_DIR}\"\n",
        "    validation_pred_images = glob.glob(f\"{EXP_PATH}/*_pred.jpg\")\n",
        "    print(validation_pred_images)\n",
        "    for pred_image in validation_pred_images:\n",
        "        image = cv2.imread(pred_image)\n",
        "        plt.figure(figsize=(19, 16))\n",
        "        plt.imshow(image[:, :, ::-1])\n",
        "        plt.axis('off')\n",
        "        plt.show()"
      ]
    },
    {
      "cell_type": "markdown",
      "metadata": {
        "id": "1051c856"
      },
      "source": [
        "The following functions are for carrying out inference on images and videos."
      ]
    },
    {
      "cell_type": "code",
      "execution_count": null,
      "metadata": {
        "id": "082de152"
      },
      "outputs": [],
      "source": [
        "# Helper function for inference on images.\n",
        "def inference(RES_DIR, data_path):\n",
        "    # Directory to store inference results.\n",
        "    infer_dir_count = len(glob.glob('runs/detect/*'))\n",
        "    print(f\"Current number of inference detection directories: {infer_dir_count}\")\n",
        "    INFER_DIR = f\"inference_{infer_dir_count+1}\"\n",
        "    print(INFER_DIR)\n",
        "    # Inference on images.\n",
        "    !python detect.py --weights runs/train/{RES_DIR}/weights/best.pt \\\n",
        "    --source {data_path} --name {INFER_DIR}\n",
        "    return INFER_DIR"
      ]
    },
    {
      "cell_type": "markdown",
      "metadata": {
        "id": "2d440c92"
      },
      "source": [
        "We may also need to visualize images in any of the directories. The following function accepts a directory path and plots all the images in them."
      ]
    },
    {
      "cell_type": "code",
      "execution_count": null,
      "metadata": {
        "id": "e81a2aaf"
      },
      "outputs": [],
      "source": [
        "def visualize(INFER_DIR):\n",
        "# Visualize inference images.\n",
        "    INFER_PATH = f\"runs/detect/{INFER_DIR}\"\n",
        "    infer_images = glob.glob(f\"{INFER_PATH}/*.jpg\")\n",
        "    print(infer_images)\n",
        "    for pred_image in infer_images:\n",
        "        image = cv2.imread(pred_image)\n",
        "        plt.figure(figsize=(19, 16))\n",
        "        plt.imshow(image[:, :, ::-1])\n",
        "        plt.axis('off')\n",
        "        plt.show()"
      ]
    },
    {
      "cell_type": "markdown",
      "metadata": {
        "id": "9a8fa70a"
      },
      "source": [
        "**Visualize validation prediction images.**"
      ]
    },
    {
      "cell_type": "code",
      "execution_count": null,
      "metadata": {
        "id": "deea155b"
      },
      "outputs": [],
      "source": [
        "show_valid_results(RES_DIR)"
      ]
    },
    {
      "cell_type": "markdown",
      "metadata": {
        "id": "2U8j7Ni08JeZ"
      },
      "source": [
        "In this section, we will carry out inference on unseen images and videos from the internet.\n",
        "\n",
        "The images for inference are in the `inference_images` directory.\n",
        "\n",
        "The videos for inference are in the `inference_videos` directory."
      ]
    },
    {
      "cell_type": "markdown",
      "metadata": {
        "id": "nn6F_ljA8o5S"
      },
      "source": [
        "### Download the Images and Videos\n",
        "Let's download the images and videos that we will carry inference upon."
      ]
    },
    {
      "cell_type": "code",
      "execution_count": null,
      "metadata": {
        "id": "oOgO4HaU82lT"
      },
      "outputs": [],
      "source": [
        "download_file('https://learnopencv.s3.us-west-2.amazonaws.com/yolov5_inference_data.zip',\n",
        "              'inference_data.zip')\n",
        "if not os.path.exists('inference_images'):\n",
        "    !unzip -q \"inference_data.zip\"\n",
        "else:\n",
        "    print('Dataset already present')"
      ]
    },
    {
      "cell_type": "markdown",
      "metadata": {
        "id": "PA3Xt-sZ9j53"
      },
      "source": [
        "### Inference on Images"
      ]
    },
    {
      "cell_type": "markdown",
      "metadata": {
        "id": "dUeb1ZdT9vaW"
      },
      "source": [
        "**To carry out inference on images, we just need to provide the directory path where all the images are stored, and inference will happen on all images automatically.**"
      ]
    },
    {
      "cell_type": "code",
      "execution_count": null,
      "metadata": {
        "id": "iS-qNzHR97Ce"
      },
      "outputs": [],
      "source": [
        "# Inference on images.\n",
        "IMAGE_INFER_DIR = inference(RES_DIR, 'inference_images')"
      ]
    },
    {
      "cell_type": "code",
      "execution_count": null,
      "metadata": {
        "id": "977cbb39"
      },
      "outputs": [],
      "source": [
        "visualize(IMAGE_INFER_DIR)"
      ]
    },
    {
      "cell_type": "markdown",
      "metadata": {
        "id": "e85480e0"
      },
      "source": [
        "### Inference on Videos"
      ]
    },
    {
      "cell_type": "code",
      "execution_count": null,
      "metadata": {
        "id": "91f2e074"
      },
      "outputs": [],
      "source": [
        "inference(RES_DIR, 'inference_videos')"
      ]
    },
    {
      "cell_type": "markdown",
      "metadata": {
        "id": "c6CLk8tsrdZf"
      },
      "source": [
        "**ASSIGNMENT**\n",
        "\n",
        "Evaluate the trained network on your recorded video that has one or more of these classes: ['Ambulance', 'Bus', 'Car', 'Motorcycle', 'Truck'].\n",
        "Analyze the errors (e.g. show some frames with correct/incorrect detections).\n"
      ]
    }
  ],
  "metadata": {
    "accelerator": "GPU",
    "colab": {
      "provenance": []
    },
    "gpuClass": "standard",
    "kernelspec": {
      "display_name": "Python 3",
      "name": "python3"
    },
    "language_info": {
      "name": "python"
    }
  },
  "nbformat": 4,
  "nbformat_minor": 0
}