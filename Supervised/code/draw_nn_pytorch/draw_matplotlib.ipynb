{
 "cells": [
  {
   "cell_type": "code",
   "execution_count": 96,
   "metadata": {},
   "outputs": [
    {
     "name": "stdout",
     "output_type": "stream",
     "text": [
      "1D\n"
     ]
    },
    {
     "data": {
      "image/png": "[encoded data removed]",
      "text/plain": [
       "<Figure size 640x480 with 1 Axes>"
      ]
     },
     "metadata": {},
     "output_type": "display_data"
    }
   ],
   "source": [
    "import matplotlib.pyplot as plt\n",
    "import numpy as np\n",
    "from math import cos, sin\n",
    "\n",
    "#              z   x   y      \n",
    "output_shape = [2, 8, 32, 32]\n",
    "output_shape2 = [8, 28, 28]\n",
    "output_shape3 = [200]\n",
    "\n",
    "def map_layer(output_shape, angle: float = 3.14/4, offset: int = 0, offset_optional: int = 0):\n",
    "    \"\"\"\n",
    "    Maps the shape of a layer in a neural network to a set of coordinates for visualization.\n",
    "\n",
    "    Parameters:\n",
    "    - output_shape (tuple): The shape of the layer's output tensor.\n",
    "    - angle (float): The angle (in radians) at which the layer should be tilted.\n",
    "    - offset (int): The offset value for the layer's coordinates.\n",
    "    - offset_optional (int): An optional offset value to add to the maximum z-coordinate of the mapped layer.\n",
    "   \n",
    "    Returns:\n",
    "    - mapped_layer (ndarray): An array of coordinates representing the mapped layer.\n",
    "    - offset (int): The updated offset value.\n",
    "\n",
    "    \"\"\"\n",
    "    mapped_layer = []\n",
    "    vertices = []\n",
    "    if len(output_shape) == 4:\n",
    "        output_shape = output_shape[1:] # Drop batch size\n",
    "\n",
    "    if len(output_shape) == 3: # 3D\n",
    "        x_h = round(output_shape[1]*cos(angle))\n",
    "        x_v = round(output_shape[1]*sin(angle))\n",
    "        z = output_shape[0]\n",
    "        y = output_shape[2]\n",
    "    elif len(output_shape) == 1: # 1D -> Fully Connected\n",
    "        print(\"1D\")\n",
    "        z = output_shape[0]\n",
    "        y = 5\n",
    "        x_h = round(y*cos(angle))\n",
    "        x_v = round(y*sin(angle))\n",
    "    \n",
    "    vertices = [\n",
    "            [offset - x_h/2, -y/2 - x_v/2], # Front bottom left\n",
    "            [offset + z - x_h/2, -y/2 - x_v/2], # Front bottom right\n",
    "            [offset + z - x_h/2, y/2 - x_v/2], # Front top right\n",
    "            [offset - x_h/2, y/2 - x_v/2], # Front top left\n",
    "            [offset + x_h/2, -y/2 + x_v/2], # Back bottom left\n",
    "            [offset + z + x_h/2, -y/2 + x_v/2], # Back bottom right\n",
    "            [offset + z + x_h/2, y/2 + x_v/2], # Back top right\n",
    "            [offset + x_h/2, y/2 + x_v/2], # Back top left\n",
    "        ]\n",
    "    mapped_layer = [\n",
    "        [vertices[0], vertices[1], vertices[2], vertices[3], vertices[0]], # Front face\n",
    "        [vertices[4], vertices[5], vertices[6], vertices[7], vertices[4]], # Back face\n",
    "        [vertices[0], vertices[4], vertices[7], vertices[3], vertices[0]], # Left face\n",
    "        [vertices[1], vertices[5], vertices[6], vertices[2], vertices[1]], # Right face\n",
    "        [vertices[3], vertices[7], vertices[6], vertices[2], vertices[3]], # Top face\n",
    "        [vertices[0], vertices[4], vertices[5], vertices[1], vertices[0]], # Bottom face\n",
    "    ]\n",
    "    mapped_layer = np.array(mapped_layer).reshape(-1, 5, 2)\n",
    "    offset += z + offset_optional\n",
    "    # print('Offset: ', offset, '. Vertices\\n', vertices)\n",
    "    return mapped_layer, offset\n",
    "\n",
    "\n",
    "mapped_layer, offset = map_layer(output_shape)\n",
    "mapped_layer2, offset2 = map_layer(output_shape2, offset=offset)\n",
    "mapped_layer3, offset3 = map_layer(output_shape3, offset=offset2)\n",
    "\n",
    "plt.gca().set_aspect('equal', adjustable='box')\n",
    "\n",
    "for i, face in enumerate(mapped_layer):\n",
    "    plt.fill(mapped_layer[i, :, 0], mapped_layer[i, :, 1], alpha=0.5, color='red', edgecolor='gray')\n",
    "\n",
    "for i, face in enumerate(mapped_layer2):\n",
    "    plt.fill(mapped_layer2[i, :, 0], mapped_layer2[i, :, 1], alpha=0.5, color='red', edgecolor='gray')\n",
    "for i, face in enumerate(mapped_layer3):\n",
    "    plt.fill(mapped_layer3[i, :, 0], mapped_layer3[i, :, 1], alpha=0.5, color='red', edgecolor='gray')\n",
    "\n",
    "plt.title('Transformed Cube')\n",
    "plt.show()\n"
   ]
  },
  {
   "cell_type": "code",
   "execution_count": null,
   "metadata": {},
   "outputs": [],
   "source": []
  }
 ],
 "metadata": {
  "kernelspec": {
   "display_name": "Python 3",
   "language": "python",
   "name": "python3"
  },
  "language_info": {
   "codemirror_mode": {
    "name": "ipython",
    "version": 3
   },
   "file_extension": ".py",
   "mimetype": "text/x-python",
   "name": "python",
   "nbconvert_exporter": "python",
   "pygments_lexer": "ipython3",
   "version": "3.10.12"
  }
 },
 "nbformat": 4,
 "nbformat_minor": 2
}
